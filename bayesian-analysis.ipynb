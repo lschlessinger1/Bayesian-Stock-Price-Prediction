{
 "cells": [
  {
   "cell_type": "code",
   "execution_count": 1,
   "metadata": {},
   "outputs": [
    {
     "name": "stderr",
     "output_type": "stream",
     "text": [
      "WARNING (theano.configdefaults): g++ not available, if using conda: `conda install m2w64-toolchain`\n",
      "C:\\Users\\lousc\\Anaconda3\\lib\\site-packages\\theano\\configdefaults.py:560: UserWarning: DeprecationWarning: there is no c++ compiler.This is deprecated and with Theano 0.11 a c++ compiler will be mandatory\n",
      "  warnings.warn(\"DeprecationWarning: there is no c++ compiler.\"\n",
      "WARNING (theano.configdefaults): g++ not detected ! Theano will be unable to execute optimized C-implementations (for both CPU and GPU) and will default to Python implementations. Performance will be severely degraded. To remove this warning, set Theano flags cxx to an empty string.\n",
      "WARNING (theano.tensor.blas): Using NumPy C-API based implementation for BLAS functions.\n",
      "C:\\Users\\lousc\\Anaconda3\\lib\\site-packages\\h5py\\__init__.py:34: FutureWarning: Conversion of the second argument of issubdtype from `float` to `np.floating` is deprecated. In future, it will be treated as `np.float64 == np.dtype(float).type`.\n",
      "  from ._conv import register_converters as _register_converters\n"
     ]
    }
   ],
   "source": [
    "%matplotlib inline\n",
    "import pandas as pd\n",
    "import glob\n",
    "import datetime as dt\n",
    "import numpy as np\n",
    "import theano.tensor as tt\n",
    "import pymc3 as pm\n",
    "import warnings\n",
    "warnings.filterwarnings('ignore')\n",
    "import seaborn as sns\n",
    "import matplotlib.pyplot as plt\n",
    "from sklearn import linear_model\n",
    "sns.set_context('notebook')\n",
    "from sklearn.metrics import mean_absolute_error\n",
    "from sklearn.metrics.pairwise import euclidean_distances"
   ]
  },
  {
   "cell_type": "code",
   "execution_count": 2,
   "metadata": {
    "collapsed": true
   },
   "outputs": [],
   "source": [
    "data_folder = \"data\"\n",
    "csvDataFiles = sorted(glob.glob(data_folder + \"/*.csv\"))\n",
    "dataFiles = []\n",
    "for dataFile in csvDataFiles:\n",
    "    df = pd.read_csv(dataFile)\n",
    "    dataFiles.append(df)"
   ]
  },
  {
   "cell_type": "code",
   "execution_count": 3,
   "metadata": {},
   "outputs": [
    {
     "name": "stdout",
     "output_type": "stream",
     "text": [
      "30\n"
     ]
    }
   ],
   "source": [
    "#The number of stocks we have in our data folder\n",
    "print(len(dataFiles))"
   ]
  },
  {
   "cell_type": "code",
   "execution_count": 4,
   "metadata": {},
   "outputs": [
    {
     "data": {
      "text/html": [
       "<div>\n",
       "<style>\n",
       "    .dataframe thead tr:only-child th {\n",
       "        text-align: right;\n",
       "    }\n",
       "\n",
       "    .dataframe thead th {\n",
       "        text-align: left;\n",
       "    }\n",
       "\n",
       "    .dataframe tbody tr th {\n",
       "        vertical-align: top;\n",
       "    }\n",
       "</style>\n",
       "<table border=\"1\" class=\"dataframe\">\n",
       "  <thead>\n",
       "    <tr style=\"text-align: right;\">\n",
       "      <th></th>\n",
       "      <th>Date</th>\n",
       "      <th>Open</th>\n",
       "      <th>High</th>\n",
       "      <th>Low</th>\n",
       "      <th>Close</th>\n",
       "      <th>Adj Close</th>\n",
       "      <th>Volume</th>\n",
       "    </tr>\n",
       "  </thead>\n",
       "  <tbody>\n",
       "    <tr>\n",
       "      <th>0</th>\n",
       "      <td>10/2/2017</td>\n",
       "      <td>154.259995</td>\n",
       "      <td>154.449997</td>\n",
       "      <td>152.720001</td>\n",
       "      <td>153.809998</td>\n",
       "      <td>152.636734</td>\n",
       "      <td>18698800</td>\n",
       "    </tr>\n",
       "    <tr>\n",
       "      <th>1</th>\n",
       "      <td>10/3/2017</td>\n",
       "      <td>154.009995</td>\n",
       "      <td>155.089996</td>\n",
       "      <td>153.910004</td>\n",
       "      <td>154.479996</td>\n",
       "      <td>153.301620</td>\n",
       "      <td>16230300</td>\n",
       "    </tr>\n",
       "    <tr>\n",
       "      <th>2</th>\n",
       "      <td>10/4/2017</td>\n",
       "      <td>153.630005</td>\n",
       "      <td>153.860001</td>\n",
       "      <td>152.460007</td>\n",
       "      <td>153.479996</td>\n",
       "      <td>152.309250</td>\n",
       "      <td>20163800</td>\n",
       "    </tr>\n",
       "    <tr>\n",
       "      <th>3</th>\n",
       "      <td>10/5/2017</td>\n",
       "      <td>154.179993</td>\n",
       "      <td>155.440002</td>\n",
       "      <td>154.050003</td>\n",
       "      <td>155.389999</td>\n",
       "      <td>154.204681</td>\n",
       "      <td>21283800</td>\n",
       "    </tr>\n",
       "    <tr>\n",
       "      <th>4</th>\n",
       "      <td>10/6/2017</td>\n",
       "      <td>154.970001</td>\n",
       "      <td>155.490005</td>\n",
       "      <td>154.559998</td>\n",
       "      <td>155.300003</td>\n",
       "      <td>154.115372</td>\n",
       "      <td>17407600</td>\n",
       "    </tr>\n",
       "  </tbody>\n",
       "</table>\n",
       "</div>"
      ],
      "text/plain": [
       "        Date        Open        High         Low       Close   Adj Close  \\\n",
       "0  10/2/2017  154.259995  154.449997  152.720001  153.809998  152.636734   \n",
       "1  10/3/2017  154.009995  155.089996  153.910004  154.479996  153.301620   \n",
       "2  10/4/2017  153.630005  153.860001  152.460007  153.479996  152.309250   \n",
       "3  10/5/2017  154.179993  155.440002  154.050003  155.389999  154.204681   \n",
       "4  10/6/2017  154.970001  155.490005  154.559998  155.300003  154.115372   \n",
       "\n",
       "     Volume  \n",
       "0  18698800  \n",
       "1  16230300  \n",
       "2  20163800  \n",
       "3  21283800  \n",
       "4  17407600  "
      ]
     },
     "execution_count": 4,
     "metadata": {},
     "output_type": "execute_result"
    }
   ],
   "source": [
    "#This is what our data looks like\n",
    "dataFiles[0].head()"
   ]
  },
  {
   "cell_type": "code",
   "execution_count": 5,
   "metadata": {},
   "outputs": [
    {
     "data": {
      "text/plain": [
       "(124, 7)"
      ]
     },
     "execution_count": 5,
     "metadata": {},
     "output_type": "execute_result"
    }
   ],
   "source": [
    "#The dimensions of the stock data\n",
    "dataFiles[0].shape"
   ]
  },
  {
   "cell_type": "code",
   "execution_count": 6,
   "metadata": {},
   "outputs": [
    {
     "data": {
      "text/plain": [
       "[('Buy', 5.0),\n",
       " ('Outperform', 4.0),\n",
       " ('Hold', 3.0),\n",
       " ('Underperform', 2.0),\n",
       " ('Sell', 1.0)]"
      ]
     },
     "execution_count": 6,
     "metadata": {},
     "output_type": "execute_result"
    }
   ],
   "source": [
    "ratings_file = \"Ratings.xlsx\"\n",
    "rating_df = pd.read_excel(ratings_file)\n",
    "rating_cols = rating_df.columns.tolist()\n",
    "rating_rows = rating_df.index.values.tolist()[1:] # skip first row\n",
    "rating_rows"
   ]
  },
  {
   "cell_type": "code",
   "execution_count": 7,
   "metadata": {},
   "outputs": [
    {
     "data": {
      "text/plain": [
       "['Current Rating', '1 Month Ago', '2 Months Ago', '3 Months Ago']"
      ]
     },
     "execution_count": 7,
     "metadata": {},
     "output_type": "execute_result"
    }
   ],
   "source": [
    "rating_cols"
   ]
  },
  {
   "cell_type": "code",
   "execution_count": 8,
   "metadata": {
    "collapsed": true
   },
   "outputs": [],
   "source": [
    "#Lets store the ratings in a form we can understand\n",
    "ratings_folder = \"Ratings\"\n",
    "xlsxRatingFiles = sorted(glob.glob(ratings_folder + \"/*.xlsx\"))\n",
    "ratingsFiles = []\n",
    "for ratingFile in xlsxRatingFiles:\n",
    "    rf = pd.read_excel(ratingFile, names=rating_cols, index=False)\n",
    "    ratingsFiles.append(rf)"
   ]
  },
  {
   "cell_type": "code",
   "execution_count": 9,
   "metadata": {},
   "outputs": [
    {
     "data": {
      "text/html": [
       "<div>\n",
       "<style>\n",
       "    .dataframe thead tr:only-child th {\n",
       "        text-align: right;\n",
       "    }\n",
       "\n",
       "    .dataframe thead th {\n",
       "        text-align: left;\n",
       "    }\n",
       "\n",
       "    .dataframe tbody tr th {\n",
       "        vertical-align: top;\n",
       "    }\n",
       "</style>\n",
       "<table border=\"1\" class=\"dataframe\">\n",
       "  <thead>\n",
       "    <tr style=\"text-align: right;\">\n",
       "      <th></th>\n",
       "      <th>Current Rating</th>\n",
       "      <th>1 Month Ago</th>\n",
       "      <th>2 Months Ago</th>\n",
       "      <th>3 Months Ago</th>\n",
       "    </tr>\n",
       "  </thead>\n",
       "  <tbody>\n",
       "    <tr>\n",
       "      <th>5</th>\n",
       "      <td>6</td>\n",
       "      <td>6</td>\n",
       "      <td>7</td>\n",
       "      <td>8</td>\n",
       "    </tr>\n",
       "    <tr>\n",
       "      <th>4</th>\n",
       "      <td>0</td>\n",
       "      <td>0</td>\n",
       "      <td>0</td>\n",
       "      <td>0</td>\n",
       "    </tr>\n",
       "    <tr>\n",
       "      <th>3</th>\n",
       "      <td>5</td>\n",
       "      <td>5</td>\n",
       "      <td>4</td>\n",
       "      <td>3</td>\n",
       "    </tr>\n",
       "    <tr>\n",
       "      <th>2</th>\n",
       "      <td>0</td>\n",
       "      <td>0</td>\n",
       "      <td>0</td>\n",
       "      <td>0</td>\n",
       "    </tr>\n",
       "    <tr>\n",
       "      <th>1</th>\n",
       "      <td>0</td>\n",
       "      <td>0</td>\n",
       "      <td>0</td>\n",
       "      <td>0</td>\n",
       "    </tr>\n",
       "  </tbody>\n",
       "</table>\n",
       "</div>"
      ],
      "text/plain": [
       "   Current Rating  1 Month Ago  2 Months Ago  3 Months Ago\n",
       "5               6            6             7             8\n",
       "4               0            0             0             0\n",
       "3               5            5             4             3\n",
       "2               0            0             0             0\n",
       "1               0            0             0             0"
      ]
     },
     "execution_count": 9,
     "metadata": {},
     "output_type": "execute_result"
    }
   ],
   "source": [
    "#This is what our ratings look like\n",
    "ratingsFiles[0].head()"
   ]
  },
  {
   "cell_type": "code",
   "execution_count": 10,
   "metadata": {},
   "outputs": [
    {
     "data": {
      "text/plain": [
       "(5, 4)"
      ]
     },
     "execution_count": 10,
     "metadata": {},
     "output_type": "execute_result"
    }
   ],
   "source": [
    "#The dimensions of the ratings data -- 5 rows and 4 columns\n",
    "ratingsFiles[0].shape"
   ]
  },
  {
   "cell_type": "code",
   "execution_count": 11,
   "metadata": {
    "collapsed": true
   },
   "outputs": [],
   "source": [
    "#  assume ratings come at the end of the month\n",
    "# rows are ratings\n",
    "# columns are months\n",
    "# entries are number of analysts that gave a stock a having a certain rating during that month\n",
    "# get stock ROI for each month for each stock\n",
    "\n",
    "start3MonthsAgo = dt.datetime(2018, 1, 1)\n",
    "end2MonthsAgo = dt.datetime(2018, 1, 31)\n",
    "\n",
    "start2MonthsAgo = dt.datetime(2018, 2, 1)\n",
    "end1MonthAgo = dt.datetime(2018, 2, 28)\n",
    "\n",
    "start1MonthAgo = dt.datetime(2018, 3, 1)\n",
    "end1MonthAgo = dt.datetime(2018, 3, 29)"
   ]
  },
  {
   "cell_type": "code",
   "execution_count": 24,
   "metadata": {},
   "outputs": [],
   "source": [
    "allPriceDifs = []\n",
    "for idx, dataFile in enumerate(dataFiles):\n",
    "    # first select data from 3 months ago\n",
    "    df = dataFile\n",
    "    df['Date'] = pd.to_datetime(df['Date'])  \n",
    "    threeMonthmask = (df['Date'] >= start3MonthsAgo) & (df['Date'] <= end2MonthsAgo)\n",
    "    twoMonthmask = (df['Date'] >= start2MonthsAgo) & (df['Date'] <= end1MonthAgo)\n",
    "    oneMonthmask = (df['Date'] >= start1MonthAgo) & (df['Date'] <= end1MonthAgo)\n",
    "    dfLocList = [df.loc[threeMonthmask], df.loc[twoMonthmask], df.loc[oneMonthmask]]\n",
    "    priceDifs = []\n",
    "    for dfLoc in dfLocList:\n",
    "        first_day = dfLoc.iloc[0]\n",
    "        last_day  = dfLoc.iloc[-1]\n",
    "        price_diff = abs(last_day[\"Adj Close\"] - first_day[\"Adj Close\"])\n",
    "        price_avg = (last_day[\"Adj Close\"] + first_day[\"Adj Close\"]) / 2\n",
    "        sign = np.sign( first_day[\"Adj Close\"] - last_day[\"Adj Close\"])\n",
    "        pct_dif = 100 * sign * (price_diff / price_avg)\n",
    "        priceDifs.append(pct_dif)\n",
    "    allPriceDifs.append(priceDifs)"
   ]
  },
  {
   "cell_type": "code",
   "execution_count": 25,
   "metadata": {},
   "outputs": [
    {
     "data": {
      "text/html": [
       "<div>\n",
       "<style>\n",
       "    .dataframe thead tr:only-child th {\n",
       "        text-align: right;\n",
       "    }\n",
       "\n",
       "    .dataframe thead th {\n",
       "        text-align: left;\n",
       "    }\n",
       "\n",
       "    .dataframe tbody tr th {\n",
       "        vertical-align: top;\n",
       "    }\n",
       "</style>\n",
       "<table border=\"1\" class=\"dataframe\">\n",
       "  <thead>\n",
       "    <tr style=\"text-align: right;\">\n",
       "      <th></th>\n",
       "      <th>jan_pct_dif</th>\n",
       "      <th>feb_pct_dif</th>\n",
       "      <th>mar_pct_dif</th>\n",
       "    </tr>\n",
       "  </thead>\n",
       "  <tbody>\n",
       "    <tr>\n",
       "      <th>0</th>\n",
       "      <td>2.843764</td>\n",
       "      <td>-0.406879</td>\n",
       "      <td>4.212615</td>\n",
       "    </tr>\n",
       "    <tr>\n",
       "      <th>1</th>\n",
       "      <td>-0.816046</td>\n",
       "      <td>6.953643</td>\n",
       "      <td>1.974313</td>\n",
       "    </tr>\n",
       "    <tr>\n",
       "      <th>2</th>\n",
       "      <td>-17.668647</td>\n",
       "      <td>7.995316</td>\n",
       "      <td>6.437710</td>\n",
       "    </tr>\n",
       "    <tr>\n",
       "      <th>3</th>\n",
       "      <td>-4.052424</td>\n",
       "      <td>9.598863</td>\n",
       "      <td>1.915252</td>\n",
       "    </tr>\n",
       "    <tr>\n",
       "      <th>4</th>\n",
       "      <td>-7.408863</td>\n",
       "      <td>-2.813567</td>\n",
       "      <td>2.099435</td>\n",
       "    </tr>\n",
       "  </tbody>\n",
       "</table>\n",
       "</div>"
      ],
      "text/plain": [
       "   jan_pct_dif  feb_pct_dif  mar_pct_dif\n",
       "0     2.843764    -0.406879     4.212615\n",
       "1    -0.816046     6.953643     1.974313\n",
       "2   -17.668647     7.995316     6.437710\n",
       "3    -4.052424     9.598863     1.915252\n",
       "4    -7.408863    -2.813567     2.099435"
      ]
     },
     "execution_count": 25,
     "metadata": {},
     "output_type": "execute_result"
    }
   ],
   "source": [
    "priceDifs = pd.DataFrame(data=allPriceDifs, columns=[\"jan_pct_dif\", \"feb_pct_dif\", \"mar_pct_dif\"])\n",
    "priceDifs.head()"
   ]
  },
  {
   "cell_type": "code",
   "execution_count": 26,
   "metadata": {
    "collapsed": true
   },
   "outputs": [],
   "source": [
    "# get the mean analyst rating for each stock\n",
    "rating_labels = ['3 Months Ago', '2 Months Ago', '1 Month Ago']\n",
    "ratings = []\n",
    "for label in rating_labels:\n",
    "    month_rating_list = []\n",
    "    for f in ratingsFiles:\n",
    "        df = f[label][f[label] > 0].to_frame()\n",
    "        df['rating_val'] = df.index\n",
    "        df[\"mult\"] = df['rating_val'].multiply(df[label])\n",
    "        rating_tot = df[\"mult\"].sum()\n",
    "        num_ratings = df[label].sum()\n",
    "        \n",
    "        mean_rating = rating_tot / num_ratings\n",
    "        month_rating_list.append(mean_rating)\n",
    "        \n",
    "    ratings.append(month_rating_list)"
   ]
  },
  {
   "cell_type": "code",
   "execution_count": 27,
   "metadata": {},
   "outputs": [
    {
     "data": {
      "image/png": "[encoded data removed]",
      "text/plain": [
       "<matplotlib.figure.Figure at 0x2655c408f60>"
      ]
     },
     "metadata": {},
     "output_type": "display_data"
    }
   ],
   "source": [
    "# let's plot the distribution of mean analyst ratings\n",
    "month_names = [\"January\", \"February\", \"March\"]\n",
    "colors = [\"r\", \"g\", \"b\"]\n",
    "f, axes = plt.subplots(3, 1, figsize=(7, 7))\n",
    "for i, (rating, month, color) in enumerate(zip(ratings, month_names, colors)):\n",
    "    ax = sns.distplot(rating, hist=False, rug=True, ax=axes[i], color=color)\n",
    "    ax.set(xlabel='Mean rating', ylabel='Rating density')\n",
    "    ax.set_title(month + \" average analyst ratings\")\n",
    "    \n",
    "plt.tight_layout()\n",
    "plt.show()"
   ]
  },
  {
   "cell_type": "code",
   "execution_count": 28,
   "metadata": {},
   "outputs": [
    {
     "data": {
      "image/png": "[encoded data removed]",
      "text/plain": [
       "<matplotlib.figure.Figure at 0x2655c46a630>"
      ]
     },
     "metadata": {},
     "output_type": "display_data"
    }
   ],
   "source": [
    "# now let's plot the monthly stock percent differences\n",
    "ax = sns.boxplot(data=priceDifs.rename(index=str, columns={\"jan_pct_dif\": \"January\", \n",
    "                                                           \"feb_pct_dif\": \"February\", \"mar_pct_dif\": \"March\"}))\n",
    "ax.set(ylabel='% difference')\n",
    "ax.set_title(\"Monthly Stock Percent Price Differences\")\n",
    "plt.show()"
   ]
  },
  {
   "cell_type": "code",
   "execution_count": 29,
   "metadata": {},
   "outputs": [
    {
     "data": {
      "text/html": [
       "<div>\n",
       "<style>\n",
       "    .dataframe thead tr:only-child th {\n",
       "        text-align: right;\n",
       "    }\n",
       "\n",
       "    .dataframe thead th {\n",
       "        text-align: left;\n",
       "    }\n",
       "\n",
       "    .dataframe tbody tr th {\n",
       "        vertical-align: top;\n",
       "    }\n",
       "</style>\n",
       "<table border=\"1\" class=\"dataframe\">\n",
       "  <thead>\n",
       "    <tr style=\"text-align: right;\">\n",
       "      <th></th>\n",
       "      <th>jan_mean_rating</th>\n",
       "      <th>feb_mean_rating</th>\n",
       "    </tr>\n",
       "  </thead>\n",
       "  <tbody>\n",
       "    <tr>\n",
       "      <th>0</th>\n",
       "      <td>4.454545</td>\n",
       "      <td>4.272727</td>\n",
       "    </tr>\n",
       "    <tr>\n",
       "      <th>1</th>\n",
       "      <td>3.285714</td>\n",
       "      <td>3.500000</td>\n",
       "    </tr>\n",
       "    <tr>\n",
       "      <th>2</th>\n",
       "      <td>3.777778</td>\n",
       "      <td>3.777778</td>\n",
       "    </tr>\n",
       "    <tr>\n",
       "      <th>3</th>\n",
       "      <td>3.714286</td>\n",
       "      <td>3.857143</td>\n",
       "    </tr>\n",
       "    <tr>\n",
       "      <th>4</th>\n",
       "      <td>4.750000</td>\n",
       "      <td>4.750000</td>\n",
       "    </tr>\n",
       "  </tbody>\n",
       "</table>\n",
       "</div>"
      ],
      "text/plain": [
       "   jan_mean_rating  feb_mean_rating\n",
       "0         4.454545         4.272727\n",
       "1         3.285714         3.500000\n",
       "2         3.777778         3.777778\n",
       "3         3.714286         3.857143\n",
       "4         4.750000         4.750000"
      ]
     },
     "execution_count": 29,
     "metadata": {},
     "output_type": "execute_result"
    }
   ],
   "source": [
    "# we use january and february mean analyst ratings as test data\n",
    "X_train = pd.DataFrame(data=list(zip(ratings[0], ratings[1])), columns=[\"jan_mean_rating\", \"feb_mean_rating\"])\n",
    "# use january and february percent price difference as y training labels\n",
    "y_train = priceDifs[[\"jan_pct_dif\", \"feb_pct_dif\"]]\n",
    "# use march for test data\n",
    "X_test = pd.DataFrame(data=ratings[2], columns=[\"mar_mean_rating\"])\n",
    "y_test = priceDifs[\"mar_pct_dif\"]\n",
    "X_train.head()"
   ]
  },
  {
   "cell_type": "code",
   "execution_count": 30,
   "metadata": {},
   "outputs": [
    {
     "name": "stdout",
     "output_type": "stream",
     "text": [
      "Bayesian Ridge:\n",
      "accuracy = 0.53, avg-MAE = 7.94\n",
      "\n",
      "ARD Regression:\n",
      "accuracy = 0.53, avg-MAE = 7.85\n",
      "\n",
      "Linear Regression:\n",
      "accuracy = 0.53, avg-MAE = 7.94\n",
      "\n",
      "Ridge CV:\n",
      "accuracy = 0.60, avg-MAE = 4.14\n",
      "\n",
      "Lasso:\n",
      "accuracy = 0.53, avg-MAE = 6.52\n",
      "\n",
      "Lasso Lars:\n",
      "accuracy = 0.53, avg-MAE = 7.81\n",
      "\n",
      "Passive Aggressive Regressor:\n",
      "accuracy = 0.50, avg-MAE = 7.03\n",
      "\n",
      "Theil-Sen Regressor:\n",
      "accuracy = 0.53, avg-MAE = 7.96\n",
      "\n",
      "Huber Regressor:\n",
      "accuracy = 0.53, avg-MAE = 7.96\n",
      "\n"
     ]
    }
   ],
   "source": [
    "# we make a different model for each stock and test many different regressors. \n",
    "n, d = X_train.shape\n",
    "\n",
    "models = [linear_model.BayesianRidge(), linear_model.ARDRegression(), linear_model.LinearRegression(),\n",
    "         linear_model.RidgeCV(alphas=[0.1, 1.0, 10.0]), linear_model.Lasso(alpha = 0.1), linear_model.LassoLars(alpha=.1),\n",
    "         linear_model.PassiveAggressiveRegressor(), linear_model.TheilSenRegressor(), linear_model.HuberRegressor()]\n",
    "names = names = [\"Bayesian Ridge\", \"ARD Regression\", \"Linear Regression\", \"Ridge CV\",\n",
    "         \"Lasso\", \"Lasso Lars\", \"Passive Aggressive Regressor\", \"Theil-Sen Regressor\", \"Huber Regressor\"]\n",
    "\n",
    "accuracies = []\n",
    "mae_list = []\n",
    "for clf, name in zip(models, names):\n",
    "    numTrue = 0\n",
    "    tot_mae = 0\n",
    "    for i in range(n):\n",
    "        X_tr = X_train.iloc[i].reshape(-1, 1)\n",
    "        y_tr = y_train.iloc[i].reshape(-1, 1)\n",
    "        \n",
    "        X_te = X_test.iloc[i].reshape(-1, 1)\n",
    "        y_true = y_test.iloc[i].reshape(-1, 1)\n",
    "        clf.fit(X_tr, y_tr)\n",
    "        y_pred = clf.predict(X_te)\n",
    "        \n",
    "        mae = mean_absolute_error(y_true, y_pred)  \n",
    "        tot_mae += mae\n",
    "        numTrue += 1 if (np.sign(y_true) == np.sign(y_pred)) else 0\n",
    "        \n",
    "    avg_mae = tot_mae / n\n",
    "    acc = numTrue / n\n",
    "    accuracies.append(acc)\n",
    "    mae_list.append(avg_mae)\n",
    "    print(name + \":\")\n",
    "    print(\"accuracy = %.2f, avg-MAE = %.2f\" % (acc, avg_mae))\n",
    "    print(\"\")"
   ]
  },
  {
   "cell_type": "markdown",
   "metadata": {},
   "source": [
    "Let's plot the results"
   ]
  },
  {
   "cell_type": "code",
   "execution_count": 31,
   "metadata": {},
   "outputs": [
    {
     "data": {
      "image/png": "[encoded data removed]",
      "text/plain": [
       "<matplotlib.figure.Figure at 0x2655d650518>"
      ]
     },
     "metadata": {},
     "output_type": "display_data"
    }
   ],
   "source": [
    "df=pd.DataFrame({'Accuracy': accuracies, 'Mean Absolute Error': mae_list, 'name': names })\n",
    "ax = sns.regplot(x=df[\"Accuracy\"], y=df[\"Mean Absolute Error\"], fit_reg=False, color=\"skyblue\")\n",
    "plt.title(\"Comparison of regressors\")\n",
    "plt.show()\n",
    "# we can see that the two Bayesian methods (Bayesian ridge regression and ARD regression) \n",
    "# achieve the lowest mean absolute error and accuracy"
   ]
  }
 ],
 "metadata": {
  "kernelspec": {
   "display_name": "Python 3",
   "language": "python",
   "name": "python3"
  },
  "language_info": {
   "codemirror_mode": {
    "name": "ipython",
    "version": 3
   },
   "file_extension": ".py",
   "mimetype": "text/x-python",
   "name": "python",
   "nbconvert_exporter": "python",
   "pygments_lexer": "ipython3",
   "version": "3.6.3"
  }
 },
 "nbformat": 4,
 "nbformat_minor": 2
}
